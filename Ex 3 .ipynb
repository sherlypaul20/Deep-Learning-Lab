{
 "cells": [
  {
   "cell_type": "code",
   "execution_count": 1,
   "id": "70869e53",
   "metadata": {},
   "outputs": [],
   "source": [
    "#3b.Tune the learning rate,no.of epoch and even data preparation method to get an improved score on the dataset\n",
    "import numpy as np\n",
    "import pandas as pd\n",
    "import matplotlib.pyplot as plt\n",
    "import argparse\n",
    "\n",
    "from sklearn import datasets\n",
    "from sklearn.model_selection import train_test_split\n",
    "from sklearn import metrics\n",
    "\n",
    "#\n",
    "# Import Keras modules\n",
    "from keras import models\n",
    "from tensorflow.keras.models import Sequential\n",
    "from keras import layers\n",
    "from tensorflow.keras.utils import to_categorical\n",
    "from tensorflow.keras.optimizers import SGD\n",
    "from sklearn.neural_network import MLPClassifier # neural network"
   ]
  },
  {
   "cell_type": "code",
   "execution_count": 3,
   "id": "fc744c49",
   "metadata": {},
   "outputs": [
    {
     "data": {
      "text/html": [
       "<div>\n",
       "<style scoped>\n",
       "    .dataframe tbody tr th:only-of-type {\n",
       "        vertical-align: middle;\n",
       "    }\n",
       "\n",
       "    .dataframe tbody tr th {\n",
       "        vertical-align: top;\n",
       "    }\n",
       "\n",
       "    .dataframe thead th {\n",
       "        text-align: right;\n",
       "    }\n",
       "</style>\n",
       "<table border=\"1\" class=\"dataframe\">\n",
       "  <thead>\n",
       "    <tr style=\"text-align: right;\">\n",
       "      <th></th>\n",
       "      <th>sepal.length</th>\n",
       "      <th>sepal.width</th>\n",
       "      <th>petal.length</th>\n",
       "      <th>petal.width</th>\n",
       "      <th>variety</th>\n",
       "    </tr>\n",
       "  </thead>\n",
       "  <tbody>\n",
       "    <tr>\n",
       "      <th>0</th>\n",
       "      <td>5.1</td>\n",
       "      <td>3.5</td>\n",
       "      <td>1.4</td>\n",
       "      <td>0.2</td>\n",
       "      <td>Setosa</td>\n",
       "    </tr>\n",
       "    <tr>\n",
       "      <th>1</th>\n",
       "      <td>4.9</td>\n",
       "      <td>3.0</td>\n",
       "      <td>1.4</td>\n",
       "      <td>0.2</td>\n",
       "      <td>Setosa</td>\n",
       "    </tr>\n",
       "    <tr>\n",
       "      <th>2</th>\n",
       "      <td>4.7</td>\n",
       "      <td>3.2</td>\n",
       "      <td>1.3</td>\n",
       "      <td>0.2</td>\n",
       "      <td>Setosa</td>\n",
       "    </tr>\n",
       "    <tr>\n",
       "      <th>3</th>\n",
       "      <td>4.6</td>\n",
       "      <td>3.1</td>\n",
       "      <td>1.5</td>\n",
       "      <td>0.2</td>\n",
       "      <td>Setosa</td>\n",
       "    </tr>\n",
       "    <tr>\n",
       "      <th>4</th>\n",
       "      <td>5.0</td>\n",
       "      <td>3.6</td>\n",
       "      <td>1.4</td>\n",
       "      <td>0.2</td>\n",
       "      <td>Setosa</td>\n",
       "    </tr>\n",
       "  </tbody>\n",
       "</table>\n",
       "</div>"
      ],
      "text/plain": [
       "   sepal.length  sepal.width  petal.length  petal.width variety\n",
       "0           5.1          3.5           1.4          0.2  Setosa\n",
       "1           4.9          3.0           1.4          0.2  Setosa\n",
       "2           4.7          3.2           1.3          0.2  Setosa\n",
       "3           4.6          3.1           1.5          0.2  Setosa\n",
       "4           5.0          3.6           1.4          0.2  Setosa"
      ]
     },
     "execution_count": 3,
     "metadata": {},
     "output_type": "execute_result"
    }
   ],
   "source": [
    "# Load the iris dataset\n",
    "\n",
    "\n",
    "# Load the data set and see first 5 rows\n",
    "a = pd.read_csv('iris.csv')\n",
    "iris = pd.DataFrame(a)\n",
    "iris.head()\n",
    "\n"
   ]
  },
  {
   "cell_type": "code",
   "execution_count": 22,
   "id": "aeafb435",
   "metadata": {},
   "outputs": [
    {
     "data": {
      "text/plain": [
       "(150, 5)"
      ]
     },
     "execution_count": 22,
     "metadata": {},
     "output_type": "execute_result"
    }
   ],
   "source": [
    "iris.shape"
   ]
  },
  {
   "cell_type": "code",
   "execution_count": 23,
   "id": "560449db",
   "metadata": {},
   "outputs": [],
   "source": [
    "iris = datasets.load_iris()\n",
    "X = iris.data\n",
    "y = iris.target"
   ]
  },
  {
   "cell_type": "code",
   "execution_count": 24,
   "id": "aff99001",
   "metadata": {},
   "outputs": [],
   "source": [
    "X_train, X_test, y_train, y_test = train_test_split(X, y, test_size=0.3, stratify=y, random_state=1)"
   ]
  },
  {
   "cell_type": "code",
   "execution_count": 25,
   "id": "dc3e6cd5",
   "metadata": {},
   "outputs": [],
   "source": [
    "clf = MLPClassifier(solver='adam', alpha=1e-5, hidden_layer_sizes=(3, 3), random_state=1)"
   ]
  },
  {
   "cell_type": "code",
   "execution_count": 26,
   "id": "3b2ea9b8",
   "metadata": {},
   "outputs": [
    {
     "name": "stderr",
     "output_type": "stream",
     "text": [
      "D:\\Users\\sf41\\Anaconda3\\envs\\tensorflow_env\\lib\\site-packages\\sklearn\\neural_network\\_multilayer_perceptron.py:702: ConvergenceWarning: Stochastic Optimizer: Maximum iterations (200) reached and the optimization hasn't converged yet.\n",
      "  warnings.warn(\n"
     ]
    },
    {
     "data": {
      "text/html": [
       "<style>#sk-container-id-1 {color: black;background-color: white;}#sk-container-id-1 pre{padding: 0;}#sk-container-id-1 div.sk-toggleable {background-color: white;}#sk-container-id-1 label.sk-toggleable__label {cursor: pointer;display: block;width: 100%;margin-bottom: 0;padding: 0.3em;box-sizing: border-box;text-align: center;}#sk-container-id-1 label.sk-toggleable__label-arrow:before {content: \"▸\";float: left;margin-right: 0.25em;color: #696969;}#sk-container-id-1 label.sk-toggleable__label-arrow:hover:before {color: black;}#sk-container-id-1 div.sk-estimator:hover label.sk-toggleable__label-arrow:before {color: black;}#sk-container-id-1 div.sk-toggleable__content {max-height: 0;max-width: 0;overflow: hidden;text-align: left;background-color: #f0f8ff;}#sk-container-id-1 div.sk-toggleable__content pre {margin: 0.2em;color: black;border-radius: 0.25em;background-color: #f0f8ff;}#sk-container-id-1 input.sk-toggleable__control:checked~div.sk-toggleable__content {max-height: 200px;max-width: 100%;overflow: auto;}#sk-container-id-1 input.sk-toggleable__control:checked~label.sk-toggleable__label-arrow:before {content: \"▾\";}#sk-container-id-1 div.sk-estimator input.sk-toggleable__control:checked~label.sk-toggleable__label {background-color: #d4ebff;}#sk-container-id-1 div.sk-label input.sk-toggleable__control:checked~label.sk-toggleable__label {background-color: #d4ebff;}#sk-container-id-1 input.sk-hidden--visually {border: 0;clip: rect(1px 1px 1px 1px);clip: rect(1px, 1px, 1px, 1px);height: 1px;margin: -1px;overflow: hidden;padding: 0;position: absolute;width: 1px;}#sk-container-id-1 div.sk-estimator {font-family: monospace;background-color: #f0f8ff;border: 1px dotted black;border-radius: 0.25em;box-sizing: border-box;margin-bottom: 0.5em;}#sk-container-id-1 div.sk-estimator:hover {background-color: #d4ebff;}#sk-container-id-1 div.sk-parallel-item::after {content: \"\";width: 100%;border-bottom: 1px solid gray;flex-grow: 1;}#sk-container-id-1 div.sk-label:hover label.sk-toggleable__label {background-color: #d4ebff;}#sk-container-id-1 div.sk-serial::before {content: \"\";position: absolute;border-left: 1px solid gray;box-sizing: border-box;top: 0;bottom: 0;left: 50%;z-index: 0;}#sk-container-id-1 div.sk-serial {display: flex;flex-direction: column;align-items: center;background-color: white;padding-right: 0.2em;padding-left: 0.2em;position: relative;}#sk-container-id-1 div.sk-item {position: relative;z-index: 1;}#sk-container-id-1 div.sk-parallel {display: flex;align-items: stretch;justify-content: center;background-color: white;position: relative;}#sk-container-id-1 div.sk-item::before, #sk-container-id-1 div.sk-parallel-item::before {content: \"\";position: absolute;border-left: 1px solid gray;box-sizing: border-box;top: 0;bottom: 0;left: 50%;z-index: -1;}#sk-container-id-1 div.sk-parallel-item {display: flex;flex-direction: column;z-index: 1;position: relative;background-color: white;}#sk-container-id-1 div.sk-parallel-item:first-child::after {align-self: flex-end;width: 50%;}#sk-container-id-1 div.sk-parallel-item:last-child::after {align-self: flex-start;width: 50%;}#sk-container-id-1 div.sk-parallel-item:only-child::after {width: 0;}#sk-container-id-1 div.sk-dashed-wrapped {border: 1px dashed gray;margin: 0 0.4em 0.5em 0.4em;box-sizing: border-box;padding-bottom: 0.4em;background-color: white;}#sk-container-id-1 div.sk-label label {font-family: monospace;font-weight: bold;display: inline-block;line-height: 1.2em;}#sk-container-id-1 div.sk-label-container {text-align: center;}#sk-container-id-1 div.sk-container {/* jupyter's `normalize.less` sets `[hidden] { display: none; }` but bootstrap.min.css set `[hidden] { display: none !important; }` so we also need the `!important` here to be able to override the default hidden behavior on the sphinx rendered scikit-learn.org. See: https://github.com/scikit-learn/scikit-learn/issues/21755 */display: inline-block !important;position: relative;}#sk-container-id-1 div.sk-text-repr-fallback {display: none;}</style><div id=\"sk-container-id-1\" class=\"sk-top-container\"><div class=\"sk-text-repr-fallback\"><pre>MLPClassifier(alpha=1e-05, hidden_layer_sizes=(3, 3), random_state=1)</pre><b>In a Jupyter environment, please rerun this cell to show the HTML representation or trust the notebook. <br />On GitHub, the HTML representation is unable to render, please try loading this page with nbviewer.org.</b></div><div class=\"sk-container\" hidden><div class=\"sk-item\"><div class=\"sk-estimator sk-toggleable\"><input class=\"sk-toggleable__control sk-hidden--visually\" id=\"sk-estimator-id-1\" type=\"checkbox\" checked><label for=\"sk-estimator-id-1\" class=\"sk-toggleable__label sk-toggleable__label-arrow\">MLPClassifier</label><div class=\"sk-toggleable__content\"><pre>MLPClassifier(alpha=1e-05, hidden_layer_sizes=(3, 3), random_state=1)</pre></div></div></div></div></div>"
      ],
      "text/plain": [
       "MLPClassifier(alpha=1e-05, hidden_layer_sizes=(3, 3), random_state=1)"
      ]
     },
     "execution_count": 26,
     "metadata": {},
     "output_type": "execute_result"
    }
   ],
   "source": [
    "clf.fit(X_train, y_train)"
   ]
  },
  {
   "cell_type": "code",
   "execution_count": 27,
   "id": "02a74eaa",
   "metadata": {},
   "outputs": [
    {
     "name": "stdout",
     "output_type": "stream",
     "text": [
      "[2 1 1 2 1 1 2 1 2 0 1 2 0 1 0 1 2 2 1 2 2 0 1 2 2 2 1 2 1 2 1 0 1 1 2 2 1\n",
      " 0 0 1 2 2 1 0 0]\n"
     ]
    }
   ],
   "source": [
    "prediction = clf.predict(X_test)\n",
    "print(prediction)"
   ]
  },
  {
   "cell_type": "code",
   "execution_count": 28,
   "id": "188e4665",
   "metadata": {},
   "outputs": [
    {
     "name": "stdout",
     "output_type": "stream",
     "text": [
      "The accuracy of the Multi-layer Perceptron is: 0.8\n"
     ]
    }
   ],
   "source": [
    "print('The accuracy of the Multi-layer Perceptron is:',metrics.accuracy_score(prediction,y_test))"
   ]
  },
  {
   "cell_type": "code",
   "execution_count": 5,
   "id": "8e9b15e2",
   "metadata": {},
   "outputs": [],
   "source": [
    "train_labels = to_categorical(y_train)\n",
    "test_labels = to_categorical(y_test)"
   ]
  },
  {
   "cell_type": "code",
   "execution_count": 6,
   "id": "ef53c266",
   "metadata": {},
   "outputs": [],
   "source": [
    "network = models.Sequential()\n",
    "network.add(layers.Dense(32, activation='relu', input_shape=(4,)))\n",
    "network.add(layers.Dense(64, activation='relu'))\n",
    "network.add(layers.Dense(128, activation='relu'))\n",
    "network.add(layers.Dense(3, activation='softmax'))"
   ]
  },
  {
   "cell_type": "code",
   "execution_count": 38,
   "id": "e02e3293",
   "metadata": {},
   "outputs": [],
   "source": [
    "learning_rate=0.01\n",
    "sgd=SGD(learning_rate)\n",
    "network.compile(optimizer='sgd',\n",
    "                loss='categorical_crossentropy',\n",
    "                metrics=['accuracy'])"
   ]
  },
  {
   "cell_type": "code",
   "execution_count": 10,
   "id": "27cdbee5",
   "metadata": {},
   "outputs": [
    {
     "name": "stdout",
     "output_type": "stream",
     "text": [
      "Epoch 1/100\n",
      "9/9 [==============================] - 0s 32ms/step - loss: 0.2149 - accuracy: 0.9048 - val_loss: 0.1570 - val_accuracy: 0.9048\n",
      "Epoch 2/100\n",
      "9/9 [==============================] - 0s 5ms/step - loss: 0.1785 - accuracy: 0.9405 - val_loss: 0.1401 - val_accuracy: 0.9524\n",
      "Epoch 3/100\n",
      "9/9 [==============================] - 0s 6ms/step - loss: 0.2711 - accuracy: 0.8690 - val_loss: 0.1230 - val_accuracy: 0.9524\n",
      "Epoch 4/100\n",
      "9/9 [==============================] - 0s 6ms/step - loss: 0.2477 - accuracy: 0.9167 - val_loss: 0.1229 - val_accuracy: 0.9524\n",
      "Epoch 5/100\n",
      "9/9 [==============================] - 0s 6ms/step - loss: 0.1944 - accuracy: 0.9286 - val_loss: 0.1365 - val_accuracy: 0.9524\n",
      "Epoch 6/100\n",
      "9/9 [==============================] - 0s 5ms/step - loss: 0.1687 - accuracy: 0.9167 - val_loss: 0.1979 - val_accuracy: 0.9048\n",
      "Epoch 7/100\n",
      "9/9 [==============================] - 0s 6ms/step - loss: 0.1995 - accuracy: 0.9643 - val_loss: 0.1300 - val_accuracy: 0.9524\n",
      "Epoch 8/100\n",
      "9/9 [==============================] - 0s 7ms/step - loss: 0.2154 - accuracy: 0.9048 - val_loss: 0.1934 - val_accuracy: 0.9048\n",
      "Epoch 9/100\n",
      "9/9 [==============================] - 0s 6ms/step - loss: 0.1895 - accuracy: 0.9048 - val_loss: 0.1144 - val_accuracy: 0.9524\n",
      "Epoch 10/100\n",
      "9/9 [==============================] - 0s 5ms/step - loss: 0.2405 - accuracy: 0.9048 - val_loss: 0.2207 - val_accuracy: 0.9048\n",
      "Epoch 11/100\n",
      "9/9 [==============================] - 0s 8ms/step - loss: 0.2179 - accuracy: 0.9048 - val_loss: 0.1167 - val_accuracy: 0.9524\n",
      "Epoch 12/100\n",
      "9/9 [==============================] - 0s 6ms/step - loss: 0.2915 - accuracy: 0.8690 - val_loss: 0.2876 - val_accuracy: 0.9048\n",
      "Epoch 13/100\n",
      "9/9 [==============================] - 0s 7ms/step - loss: 0.1736 - accuracy: 0.9405 - val_loss: 0.1087 - val_accuracy: 0.9524\n",
      "Epoch 14/100\n",
      "9/9 [==============================] - 0s 7ms/step - loss: 0.1575 - accuracy: 0.9762 - val_loss: 0.6525 - val_accuracy: 0.7619\n",
      "Epoch 15/100\n",
      "9/9 [==============================] - 0s 7ms/step - loss: 0.2563 - accuracy: 0.9286 - val_loss: 0.1913 - val_accuracy: 0.9048\n",
      "Epoch 16/100\n",
      "9/9 [==============================] - 0s 5ms/step - loss: 0.2255 - accuracy: 0.9048 - val_loss: 0.1178 - val_accuracy: 0.9524\n",
      "Epoch 17/100\n",
      "9/9 [==============================] - 0s 6ms/step - loss: 0.2113 - accuracy: 0.9048 - val_loss: 0.0959 - val_accuracy: 1.0000\n",
      "Epoch 18/100\n",
      "9/9 [==============================] - 0s 5ms/step - loss: 0.2204 - accuracy: 0.8929 - val_loss: 0.2351 - val_accuracy: 0.9048\n",
      "Epoch 19/100\n",
      "9/9 [==============================] - 0s 6ms/step - loss: 0.2000 - accuracy: 0.9286 - val_loss: 0.0950 - val_accuracy: 1.0000\n",
      "Epoch 20/100\n",
      "9/9 [==============================] - 0s 6ms/step - loss: 0.3383 - accuracy: 0.8095 - val_loss: 0.1445 - val_accuracy: 0.9048\n",
      "Epoch 21/100\n",
      "9/9 [==============================] - 0s 5ms/step - loss: 0.1543 - accuracy: 0.9405 - val_loss: 0.0968 - val_accuracy: 1.0000\n",
      "Epoch 22/100\n",
      "9/9 [==============================] - 0s 6ms/step - loss: 0.1551 - accuracy: 0.9405 - val_loss: 0.3273 - val_accuracy: 0.9048\n",
      "Epoch 23/100\n",
      "9/9 [==============================] - 0s 7ms/step - loss: 0.2284 - accuracy: 0.9048 - val_loss: 0.0960 - val_accuracy: 0.9524\n",
      "Epoch 24/100\n",
      "9/9 [==============================] - 0s 7ms/step - loss: 0.2005 - accuracy: 0.9286 - val_loss: 0.0907 - val_accuracy: 1.0000\n",
      "Epoch 25/100\n",
      "9/9 [==============================] - 0s 12ms/step - loss: 0.1626 - accuracy: 0.9524 - val_loss: 0.5909 - val_accuracy: 0.8095\n",
      "Epoch 26/100\n",
      "9/9 [==============================] - 0s 9ms/step - loss: 0.2809 - accuracy: 0.8571 - val_loss: 0.1057 - val_accuracy: 0.9524\n",
      "Epoch 27/100\n",
      "9/9 [==============================] - 0s 8ms/step - loss: 0.1759 - accuracy: 0.9405 - val_loss: 0.0975 - val_accuracy: 0.9524\n",
      "Epoch 28/100\n",
      "9/9 [==============================] - 0s 7ms/step - loss: 0.1520 - accuracy: 0.9524 - val_loss: 0.0855 - val_accuracy: 1.0000\n",
      "Epoch 29/100\n",
      "9/9 [==============================] - 0s 6ms/step - loss: 0.1535 - accuracy: 0.9643 - val_loss: 0.2400 - val_accuracy: 0.9048\n",
      "Epoch 30/100\n",
      "9/9 [==============================] - 0s 6ms/step - loss: 0.1489 - accuracy: 0.9167 - val_loss: 0.1812 - val_accuracy: 0.9048\n",
      "Epoch 31/100\n",
      "9/9 [==============================] - 0s 4ms/step - loss: 0.3062 - accuracy: 0.8333 - val_loss: 0.2650 - val_accuracy: 0.9048\n",
      "Epoch 32/100\n",
      "9/9 [==============================] - 0s 7ms/step - loss: 0.1783 - accuracy: 0.9405 - val_loss: 0.2803 - val_accuracy: 0.9048\n",
      "Epoch 33/100\n",
      "9/9 [==============================] - 0s 7ms/step - loss: 0.1575 - accuracy: 0.9524 - val_loss: 0.2403 - val_accuracy: 0.9048\n",
      "Epoch 34/100\n",
      "9/9 [==============================] - 0s 5ms/step - loss: 0.2745 - accuracy: 0.9048 - val_loss: 0.0833 - val_accuracy: 1.0000\n",
      "Epoch 35/100\n",
      "9/9 [==============================] - 0s 7ms/step - loss: 0.1474 - accuracy: 0.9524 - val_loss: 0.1425 - val_accuracy: 0.9048\n",
      "Epoch 36/100\n",
      "9/9 [==============================] - 0s 5ms/step - loss: 0.1653 - accuracy: 0.9405 - val_loss: 0.1102 - val_accuracy: 0.9524\n",
      "Epoch 37/100\n",
      "9/9 [==============================] - 0s 7ms/step - loss: 0.1758 - accuracy: 0.9167 - val_loss: 0.1142 - val_accuracy: 0.9524\n",
      "Epoch 38/100\n",
      "9/9 [==============================] - 0s 5ms/step - loss: 0.2294 - accuracy: 0.8929 - val_loss: 0.1296 - val_accuracy: 0.9524\n",
      "Epoch 39/100\n",
      "9/9 [==============================] - 0s 5ms/step - loss: 0.2047 - accuracy: 0.9167 - val_loss: 0.0784 - val_accuracy: 1.0000\n",
      "Epoch 40/100\n",
      "9/9 [==============================] - 0s 5ms/step - loss: 0.1542 - accuracy: 0.9643 - val_loss: 0.1169 - val_accuracy: 0.9048\n",
      "Epoch 41/100\n",
      "9/9 [==============================] - 0s 6ms/step - loss: 0.1860 - accuracy: 0.8929 - val_loss: 0.1485 - val_accuracy: 0.9048\n",
      "Epoch 42/100\n",
      "9/9 [==============================] - 0s 7ms/step - loss: 0.1558 - accuracy: 0.9405 - val_loss: 0.0795 - val_accuracy: 1.0000\n",
      "Epoch 43/100\n",
      "9/9 [==============================] - 0s 7ms/step - loss: 0.1344 - accuracy: 0.9643 - val_loss: 0.0882 - val_accuracy: 0.9524\n",
      "Epoch 44/100\n",
      "9/9 [==============================] - 0s 7ms/step - loss: 0.1445 - accuracy: 0.9524 - val_loss: 0.1869 - val_accuracy: 0.9048\n",
      "Epoch 45/100\n",
      "9/9 [==============================] - 0s 10ms/step - loss: 0.1497 - accuracy: 0.9405 - val_loss: 0.2651 - val_accuracy: 0.9048\n",
      "Epoch 46/100\n",
      "9/9 [==============================] - 0s 8ms/step - loss: 0.1554 - accuracy: 0.9405 - val_loss: 0.1171 - val_accuracy: 0.9524\n",
      "Epoch 47/100\n",
      "9/9 [==============================] - 0s 10ms/step - loss: 0.2864 - accuracy: 0.8333 - val_loss: 0.0719 - val_accuracy: 1.0000\n",
      "Epoch 48/100\n",
      "9/9 [==============================] - 0s 8ms/step - loss: 0.1491 - accuracy: 0.9524 - val_loss: 0.0701 - val_accuracy: 1.0000\n",
      "Epoch 49/100\n",
      "9/9 [==============================] - 0s 8ms/step - loss: 0.1277 - accuracy: 0.9405 - val_loss: 0.0854 - val_accuracy: 0.9524\n",
      "Epoch 50/100\n",
      "9/9 [==============================] - ETA: 0s - loss: 0.2735 - accuracy: 0.90 - 0s 6ms/step - loss: 0.1675 - accuracy: 0.9286 - val_loss: 0.0706 - val_accuracy: 1.0000\n",
      "Epoch 51/100\n",
      "9/9 [==============================] - 0s 4ms/step - loss: 0.1992 - accuracy: 0.9286 - val_loss: 0.1262 - val_accuracy: 0.9524\n",
      "Epoch 52/100\n",
      "9/9 [==============================] - 0s 5ms/step - loss: 0.1616 - accuracy: 0.9286 - val_loss: 0.1122 - val_accuracy: 0.9524\n",
      "Epoch 53/100\n",
      "9/9 [==============================] - 0s 6ms/step - loss: 0.1907 - accuracy: 0.9286 - val_loss: 0.2715 - val_accuracy: 0.9048\n",
      "Epoch 54/100\n",
      "9/9 [==============================] - 0s 5ms/step - loss: 0.2040 - accuracy: 0.9286 - val_loss: 0.3168 - val_accuracy: 0.9048\n",
      "Epoch 55/100\n",
      "9/9 [==============================] - 0s 8ms/step - loss: 0.1857 - accuracy: 0.9405 - val_loss: 0.1028 - val_accuracy: 0.9524\n",
      "Epoch 56/100\n",
      "9/9 [==============================] - 0s 6ms/step - loss: 0.2210 - accuracy: 0.8929 - val_loss: 0.0696 - val_accuracy: 1.0000\n",
      "Epoch 57/100\n",
      "9/9 [==============================] - 0s 4ms/step - loss: 0.2860 - accuracy: 0.8571 - val_loss: 0.4138 - val_accuracy: 0.8095\n",
      "Epoch 58/100\n",
      "9/9 [==============================] - 0s 5ms/step - loss: 0.2204 - accuracy: 0.9286 - val_loss: 0.0697 - val_accuracy: 1.0000\n",
      "Epoch 59/100\n",
      "9/9 [==============================] - 0s 7ms/step - loss: 0.1406 - accuracy: 0.9286 - val_loss: 0.1232 - val_accuracy: 0.9524\n",
      "Epoch 60/100\n",
      "9/9 [==============================] - 0s 6ms/step - loss: 0.1332 - accuracy: 0.9524 - val_loss: 0.0662 - val_accuracy: 1.0000\n",
      "Epoch 61/100\n",
      "9/9 [==============================] - 0s 3ms/step - loss: 0.1395 - accuracy: 0.9286 - val_loss: 0.2004 - val_accuracy: 0.9048\n",
      "Epoch 62/100\n",
      "9/9 [==============================] - 0s 7ms/step - loss: 0.2121 - accuracy: 0.8929 - val_loss: 0.0786 - val_accuracy: 0.9524\n",
      "Epoch 63/100\n",
      "9/9 [==============================] - 0s 5ms/step - loss: 0.1264 - accuracy: 0.9762 - val_loss: 0.1648 - val_accuracy: 0.9048\n",
      "Epoch 64/100\n",
      "9/9 [==============================] - 0s 5ms/step - loss: 0.2144 - accuracy: 0.9167 - val_loss: 0.0809 - val_accuracy: 0.9524\n",
      "Epoch 65/100\n",
      "9/9 [==============================] - 0s 5ms/step - loss: 0.1174 - accuracy: 0.9643 - val_loss: 0.0986 - val_accuracy: 0.9524\n",
      "Epoch 66/100\n",
      "9/9 [==============================] - 0s 5ms/step - loss: 0.1688 - accuracy: 0.9286 - val_loss: 0.0648 - val_accuracy: 1.0000\n",
      "Epoch 67/100\n",
      "9/9 [==============================] - 0s 4ms/step - loss: 0.1270 - accuracy: 0.9643 - val_loss: 0.1671 - val_accuracy: 0.9048\n",
      "Epoch 68/100\n",
      "9/9 [==============================] - 0s 3ms/step - loss: 0.1606 - accuracy: 0.9524 - val_loss: 0.0640 - val_accuracy: 1.0000\n",
      "Epoch 69/100\n",
      "9/9 [==============================] - 0s 3ms/step - loss: 0.1210 - accuracy: 0.9524 - val_loss: 0.0637 - val_accuracy: 1.0000\n",
      "Epoch 70/100\n",
      "9/9 [==============================] - 0s 4ms/step - loss: 0.1300 - accuracy: 0.9405 - val_loss: 0.0898 - val_accuracy: 0.9524\n",
      "Epoch 71/100\n",
      "9/9 [==============================] - 0s 3ms/step - loss: 0.1328 - accuracy: 0.9405 - val_loss: 0.2956 - val_accuracy: 0.9048\n",
      "Epoch 72/100\n",
      "9/9 [==============================] - 0s 3ms/step - loss: 0.1842 - accuracy: 0.9286 - val_loss: 0.1353 - val_accuracy: 0.9048\n",
      "Epoch 73/100\n",
      "9/9 [==============================] - 0s 5ms/step - loss: 0.1388 - accuracy: 0.9524 - val_loss: 0.0760 - val_accuracy: 0.9524\n",
      "Epoch 74/100\n",
      "9/9 [==============================] - 0s 4ms/step - loss: 0.1215 - accuracy: 0.9643 - val_loss: 0.0650 - val_accuracy: 1.0000\n",
      "Epoch 75/100\n",
      "9/9 [==============================] - 0s 5ms/step - loss: 0.1460 - accuracy: 0.9405 - val_loss: 0.1557 - val_accuracy: 0.9048\n",
      "Epoch 76/100\n",
      "9/9 [==============================] - 0s 3ms/step - loss: 0.2175 - accuracy: 0.9048 - val_loss: 0.2002 - val_accuracy: 0.9048\n",
      "Epoch 77/100\n",
      "9/9 [==============================] - 0s 3ms/step - loss: 0.1582 - accuracy: 0.9286 - val_loss: 0.0671 - val_accuracy: 1.0000\n",
      "Epoch 78/100\n",
      "9/9 [==============================] - 0s 3ms/step - loss: 0.2369 - accuracy: 0.9167 - val_loss: 0.0610 - val_accuracy: 1.0000\n",
      "Epoch 79/100\n",
      "9/9 [==============================] - 0s 5ms/step - loss: 0.1276 - accuracy: 0.9643 - val_loss: 0.1429 - val_accuracy: 0.9524\n",
      "Epoch 80/100\n",
      "9/9 [==============================] - 0s 3ms/step - loss: 0.1488 - accuracy: 0.9286 - val_loss: 0.2641 - val_accuracy: 0.9048\n",
      "Epoch 81/100\n",
      "9/9 [==============================] - 0s 4ms/step - loss: 0.1455 - accuracy: 0.9405 - val_loss: 0.1038 - val_accuracy: 0.9524\n",
      "Epoch 82/100\n",
      "9/9 [==============================] - 0s 3ms/step - loss: 0.1169 - accuracy: 0.9643 - val_loss: 0.0634 - val_accuracy: 1.0000\n",
      "Epoch 83/100\n",
      "9/9 [==============================] - 0s 4ms/step - loss: 0.1413 - accuracy: 0.9405 - val_loss: 0.0684 - val_accuracy: 0.9524\n",
      "Epoch 84/100\n",
      "9/9 [==============================] - 0s 5ms/step - loss: 0.1256 - accuracy: 0.9524 - val_loss: 0.0653 - val_accuracy: 0.9524\n",
      "Epoch 85/100\n",
      "9/9 [==============================] - 0s 7ms/step - loss: 0.1303 - accuracy: 0.9762 - val_loss: 0.0956 - val_accuracy: 0.9524\n",
      "Epoch 86/100\n",
      "9/9 [==============================] - 0s 6ms/step - loss: 0.1275 - accuracy: 0.9524 - val_loss: 0.0595 - val_accuracy: 1.0000\n",
      "Epoch 87/100\n",
      "9/9 [==============================] - 0s 6ms/step - loss: 0.1340 - accuracy: 0.9524 - val_loss: 0.0595 - val_accuracy: 1.0000\n",
      "Epoch 88/100\n",
      "9/9 [==============================] - 0s 6ms/step - loss: 0.1203 - accuracy: 0.9643 - val_loss: 0.0562 - val_accuracy: 1.0000\n",
      "Epoch 89/100\n",
      "9/9 [==============================] - 0s 5ms/step - loss: 0.1413 - accuracy: 0.9524 - val_loss: 0.0555 - val_accuracy: 1.0000\n",
      "Epoch 90/100\n",
      "9/9 [==============================] - 0s 4ms/step - loss: 0.1775 - accuracy: 0.9286 - val_loss: 0.0814 - val_accuracy: 0.9524\n",
      "Epoch 91/100\n",
      "9/9 [==============================] - 0s 6ms/step - loss: 0.1302 - accuracy: 0.9524 - val_loss: 0.1687 - val_accuracy: 0.9048\n",
      "Epoch 92/100\n",
      "9/9 [==============================] - 0s 5ms/step - loss: 0.1839 - accuracy: 0.9286 - val_loss: 0.0620 - val_accuracy: 1.0000\n",
      "Epoch 93/100\n",
      "9/9 [==============================] - 0s 4ms/step - loss: 0.1306 - accuracy: 0.9524 - val_loss: 0.1952 - val_accuracy: 0.9048\n",
      "Epoch 94/100\n",
      "9/9 [==============================] - 0s 5ms/step - loss: 0.1207 - accuracy: 0.9643 - val_loss: 0.0849 - val_accuracy: 0.9524\n",
      "Epoch 95/100\n",
      "9/9 [==============================] - 0s 6ms/step - loss: 0.1498 - accuracy: 0.9286 - val_loss: 0.0536 - val_accuracy: 1.0000\n",
      "Epoch 96/100\n",
      "9/9 [==============================] - 0s 5ms/step - loss: 0.1514 - accuracy: 0.9167 - val_loss: 0.1198 - val_accuracy: 0.9048\n",
      "Epoch 97/100\n",
      "9/9 [==============================] - 0s 6ms/step - loss: 0.1278 - accuracy: 0.9524 - val_loss: 0.0592 - val_accuracy: 0.9524\n",
      "Epoch 98/100\n",
      "9/9 [==============================] - 0s 4ms/step - loss: 0.1240 - accuracy: 0.9405 - val_loss: 0.0675 - val_accuracy: 0.9524\n",
      "Epoch 99/100\n",
      "9/9 [==============================] - 0s 4ms/step - loss: 0.1373 - accuracy: 0.9405 - val_loss: 0.2140 - val_accuracy: 0.9048\n",
      "Epoch 100/100\n",
      "9/9 [==============================] - 0s 6ms/step - loss: 0.2267 - accuracy: 0.9048 - val_loss: 0.0549 - val_accuracy: 1.0000\n"
     ]
    }
   ],
   "source": [
    "H=network.fit(X_train, train_labels, epochs=100, batch_size=10,validation_split=0.2)"
   ]
  },
  {
   "cell_type": "code",
   "execution_count": 34,
   "id": "610e2836",
   "metadata": {},
   "outputs": [
    {
     "data": {
      "text/plain": [
       "dict_keys(['loss', 'accuracy', 'val_loss', 'val_accuracy'])"
      ]
     },
     "execution_count": 34,
     "metadata": {},
     "output_type": "execute_result"
    }
   ],
   "source": [
    "H.history.keys()"
   ]
  },
  {
   "cell_type": "code",
   "execution_count": 46,
   "id": "ae99812d",
   "metadata": {},
   "outputs": [
    {
     "data": {
      "image/png": "[encoded data removed]",
      "text/plain": [
       "<Figure size 432x288 with 1 Axes>"
      ]
     },
     "metadata": {
      "needs_background": "light"
     },
     "output_type": "display_data"
    }
   ],
   "source": [
    "Acc_train = H.history['accuracy']\n",
    "Accu_val = H.history['val_accuracy']\n",
    "plt.plot(Acc_train, 'g', label='Training accuracy')\n",
    "plt.plot(Accu_val, 'b', label='validation accuracy')\n",
    "plt.title('Training and Validation Accuracy For Learning rate = %f' % learning_rate)\n",
    "plt.xlabel('Epochs')\n",
    "plt.ylabel('Accuracy')\n",
    "plt.legend(['train','val'],loc='lower right')\n",
    "plt.show()"
   ]
  },
  {
   "cell_type": "code",
   "execution_count": 32,
   "id": "1d74bcea",
   "metadata": {},
   "outputs": [
    {
     "name": "stdout",
     "output_type": "stream",
     "text": [
      "2/2 [==============================] - 0s 0s/step - loss: 0.0711 - accuracy: 0.9778\n",
      "4/4 [==============================] - 0s 5ms/step - loss: 0.0955 - accuracy: 0.9810\n",
      "Test Accuracy:  0.9777777791023254 \n",
      "Test Loss:  0.07105289399623871\n",
      "Train Accuracy:  0.9809523820877075 \n",
      "Train Loss:  0.09545375406742096\n"
     ]
    }
   ],
   "source": [
    "test_loss, test_acc = network.evaluate(X_test, test_labels)\n",
    "train_loss, train_acc = network.evaluate(X_train, train_labels)\n",
    "#\n",
    "# Print the test accuracy\n",
    "#\n",
    "print('Test Accuracy: ', test_acc, '\\nTest Loss: ', test_loss)\n",
    "print('Train Accuracy: ', train_acc, '\\nTrain Loss: ', train_loss)"
   ]
  },
  {
   "cell_type": "code",
   "execution_count": null,
   "id": "59cced4d",
   "metadata": {},
   "outputs": [],
   "source": []
  }
 ],
 "metadata": {
  "kernelspec": {
   "display_name": "Python 3 (ipykernel)",
   "language": "python",
   "name": "python3"
  },
  "language_info": {
   "codemirror_mode": {
    "name": "ipython",
    "version": 3
   },
   "file_extension": ".py",
   "mimetype": "text/x-python",
   "name": "python",
   "nbconvert_exporter": "python",
   "pygments_lexer": "ipython3",
   "version": "3.9.12"
  }
 },
 "nbformat": 4,
 "nbformat_minor": 5
}
